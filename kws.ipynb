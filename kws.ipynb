{
 "cells": [
  {
   "cell_type": "markdown",
   "metadata": {},
   "source": [
    "https://stackoverflow.com/questions/892199/detect-record-audio-in-python\n",
    "\n",
    "http://people.csail.mit.edu/hubert/pyaudio/\n",
    "\n",
    "http://people.csail.mit.edu/hubert/pyaudio/#record-example"
   ]
  },
  {
   "cell_type": "code",
   "execution_count": 1,
   "metadata": {},
   "outputs": [],
   "source": [
    "import pyaudio\n",
    "import wave\n",
    "import time\n",
    "import tensorflow as tf\n",
    "import label_wav"
   ]
  },
  {
   "cell_type": "code",
   "execution_count": 6,
   "metadata": {},
   "outputs": [],
   "source": [
    "def record(WAVE_OUTPUT_FILENAME):\n",
    "    CHUNK = 1024\n",
    "    FORMAT = pyaudio.paInt16\n",
    "    CHANNELS = 2\n",
    "    RATE = 44100\n",
    "    RECORD_SECONDS = 3\n",
    "\n",
    "    N = 3\n",
    "    while(N > 0):\n",
    "        print(N)\n",
    "        time.sleep(1)\n",
    "        N -= 1\n",
    "    print(\"* recording, please speak\")\n",
    "\n",
    "    frames = []\n",
    "    p = pyaudio.PyAudio()\n",
    "    stream = p.open(format=FORMAT,\n",
    "                channels=CHANNELS,\n",
    "                rate=RATE,\n",
    "                input=True,\n",
    "                frames_per_buffer=CHUNK)\n",
    "    for i in range(0, int(RATE / CHUNK * RECORD_SECONDS)):\n",
    "        data = stream.read(CHUNK)\n",
    "        frames.append(data)\n",
    "    stream.stop_stream()\n",
    "    stream.close()\n",
    "    p.terminate()\n",
    "\n",
    "    print(\"* done recording\")\n",
    "\n",
    "    wf = wave.open(WAVE_OUTPUT_FILENAME, 'wb')\n",
    "    wf.setnchannels(CHANNELS)\n",
    "    wf.setsampwidth(p.get_sample_size(FORMAT))\n",
    "    wf.setframerate(RATE)\n",
    "    wf.writeframes(b''.join(frames))\n",
    "    wf.close()\n",
    "\n",
    "def play(sound):\n",
    "    CHUNK = 1024\n",
    "    wf = wave.open(sound, 'rb')\n",
    "\n",
    "    p = pyaudio.PyAudio()\n",
    "\n",
    "    stream = p.open(format=p.get_format_from_width(wf.getsampwidth()),\n",
    "                    channels=wf.getnchannels(),\n",
    "                    rate=wf.getframerate(),\n",
    "                    output=True)\n",
    "\n",
    "    data = wf.readframes(CHUNK)\n",
    "\n",
    "    while data != b'':\n",
    "        stream.write(data)\n",
    "        data = wf.readframes(CHUNK)\n",
    "\n",
    "    stream.stop_stream()\n",
    "    stream.close()\n",
    "\n",
    "    p.terminate()\n",
    "\n",
    "def RunSysCmd(cmd):\n",
    "    import subprocess\n",
    "    p = subprocess.Popen(cmd, stdout=subprocess.PIPE, shell=True)\n",
    "    (output, err) = p.communicate()\n",
    "    p_status = p.wait()\n",
    "    print(output.decode('utf-8'))"
   ]
  },
  {
   "cell_type": "code",
   "execution_count": 7,
   "metadata": {},
   "outputs": [
    {
     "name": "stdout",
     "output_type": "stream",
     "text": [
      "3\n",
      "2\n",
      "1\n",
      "* recording, please speak\n",
      "* done recording\n"
     ]
    }
   ],
   "source": [
    "record('input.wav')\n",
    "play('input.wav')"
   ]
  },
  {
   "cell_type": "code",
   "execution_count": 8,
   "metadata": {},
   "outputs": [
    {
     "name": "stdout",
     "output_type": "stream",
     "text": [
      "_silence_ (score = 0.94359)\n",
      "off (score = 0.00819)\n",
      "left (score = 0.00765)\n",
      "up (score = 0.00658)\n",
      "on (score = 0.00642)\n",
      "go (score = 0.00555)\n",
      "stop (score = 0.00536)\n",
      "right (score = 0.00472)\n",
      "yes (score = 0.00469)\n",
      "down (score = 0.00336)\n",
      "_unknown_ (score = 0.00230)\n",
      "no (score = 0.00158)\n"
     ]
    }
   ],
   "source": [
    "class flags():\n",
    "    def __init__(self, wav, labels='Pretrained_models/labels.txt', graph='Pretrained_models/DNN/DNN_S.pb',\n",
    "                 input_name='wav_data:0', output_name='labels_softmax:0'):\n",
    "        self.wav = wav\n",
    "        self.labels = labels\n",
    "        self.graph = graph\n",
    "        self.input_name = input_name\n",
    "        self.output_name = output_name\n",
    "        with open(labels) as f:\n",
    "            how_many_labels = len(f.readlines())\n",
    "        self.how_many_labels = how_many_labels\n",
    "label_wav.FLAGS = flags('input.wav')\n",
    "label_wav.main('kws')"
   ]
  },
  {
   "cell_type": "code",
   "execution_count": null,
   "metadata": {},
   "outputs": [],
   "source": []
  }
 ],
 "metadata": {
  "kernelspec": {
   "display_name": "Python 3",
   "language": "python",
   "name": "python3"
  },
  "language_info": {
   "codemirror_mode": {
    "name": "ipython",
    "version": 3
   },
   "file_extension": ".py",
   "mimetype": "text/x-python",
   "name": "python",
   "nbconvert_exporter": "python",
   "pygments_lexer": "ipython3",
   "version": "3.6.4"
  }
 },
 "nbformat": 4,
 "nbformat_minor": 2
}
