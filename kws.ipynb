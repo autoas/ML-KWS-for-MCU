{
 "cells": [
  {
   "cell_type": "markdown",
   "metadata": {},
   "source": [
    "https://stackoverflow.com/questions/892199/detect-record-audio-in-python\n",
    "\n",
    "http://people.csail.mit.edu/hubert/pyaudio/\n",
    "\n",
    "http://people.csail.mit.edu/hubert/pyaudio/#record-example\n",
    "\n",
    "https://github.com/jeysonmc/python-google-speech-scripts/blob/master/stt_google.py"
   ]
  },
  {
   "cell_type": "code",
   "execution_count": null,
   "metadata": {},
   "outputs": [],
   "source": [
    "import pyaudio\n",
    "import wave\n",
    "import time\n",
    "import tensorflow as tf\n",
    "import label_wav\n",
    "import numpy as np\n",
    "import matplotlib.pyplot as plt\n",
    "import stt_google\n",
    "%matplotlib inline"
   ]
  },
  {
   "cell_type": "code",
   "execution_count": null,
   "metadata": {},
   "outputs": [],
   "source": [
    "def record(WAVE_OUTPUT_FILENAME, count_down=True):\n",
    "    CHUNK = 1024\n",
    "    FORMAT = pyaudio.paInt16\n",
    "    CHANNELS = 2\n",
    "    #RATE = 44100\n",
    "    RATE=8000 # 256Kbps\n",
    "    RECORD_SECONDS = 1\n",
    "\n",
    "    if(count_down):\n",
    "        N = 3\n",
    "        while(N > 0):\n",
    "            print(N)\n",
    "            time.sleep(1)\n",
    "            N -= 1\n",
    "        print(\"* recording, please speak\")\n",
    "\n",
    "    frames = []\n",
    "    p = pyaudio.PyAudio()\n",
    "    stream = p.open(format=FORMAT,\n",
    "                channels=CHANNELS,\n",
    "                rate=RATE,\n",
    "                input=True,\n",
    "                frames_per_buffer=CHUNK)\n",
    "    for i in range(0, round(RATE/ CHUNK * RECORD_SECONDS)):\n",
    "        data = stream.read(CHUNK)\n",
    "        frames.append(data)\n",
    "    stream.stop_stream()\n",
    "    stream.close()\n",
    "    p.terminate()\n",
    "\n",
    "    if(count_down):\n",
    "        print(\"* done recording\")\n",
    "\n",
    "    wf = wave.open(WAVE_OUTPUT_FILENAME, 'wb')\n",
    "    wf.setnchannels(CHANNELS)\n",
    "    wf.setsampwidth(p.get_sample_size(FORMAT))\n",
    "    wf.setframerate(RATE)\n",
    "    wf.writeframes(b''.join(frames))\n",
    "    wf.close()\n",
    "\n",
    "def play(sound):\n",
    "    CHUNK = 1024\n",
    "    wf = wave.open(sound, 'rb')\n",
    "\n",
    "    p = pyaudio.PyAudio()\n",
    "\n",
    "    stream = p.open(format=p.get_format_from_width(wf.getsampwidth()),\n",
    "                    channels=wf.getnchannels(),\n",
    "                    rate=wf.getframerate(),\n",
    "                    output=True)\n",
    "\n",
    "    data = wf.readframes(CHUNK)\n",
    "\n",
    "    while data != b'':\n",
    "        stream.write(data)\n",
    "        data = wf.readframes(CHUNK)\n",
    "\n",
    "    stream.stop_stream()\n",
    "    stream.close()\n",
    "\n",
    "    p.terminate()\n",
    "\n",
    "def RunSysCmd(cmd):\n",
    "    import subprocess\n",
    "    p = subprocess.Popen(cmd, stdout=subprocess.PIPE, shell=True)\n",
    "    (output, err) = p.communicate()\n",
    "    p_status = p.wait()\n",
    "    print(output.decode('utf-8'))\n",
    "\n",
    "class flags():\n",
    "    def __init__(self, wav, labels='Pretrained_models/labels.txt', graph='Pretrained_models/DNN/DNN_S.pb',\n",
    "                 input_name='wav_data:0', output_name='labels_softmax:0'):\n",
    "        self.wav = wav\n",
    "        self.labels = labels\n",
    "        self.graph = graph\n",
    "        self.input_name = input_name\n",
    "        self.output_name = output_name\n",
    "        with open(labels) as f:\n",
    "            how_many_labels = len(f.readlines())\n",
    "        self.how_many_labels = how_many_labels"
   ]
  },
  {
   "cell_type": "code",
   "execution_count": null,
   "metadata": {},
   "outputs": [],
   "source": [
    "stt_google.RATE = 8000 # 256Kbps\n",
    "stt_google.audio_int()"
   ]
  },
  {
   "cell_type": "code",
   "execution_count": null,
   "metadata": {},
   "outputs": [],
   "source": [
    "stt_google.listen_for_speech(3000, 1, 'input.wav')\n",
    "play('input.wav')\n",
    "label_wav.FLAGS = flags('input.wav', graph='Pretrained_models/DNN/DNN_L.pb')\n",
    "predictions = label_wav.main('kws')\n",
    "label_wav.show_result(predictions)"
   ]
  }
 ],
 "metadata": {
  "kernelspec": {
   "display_name": "Python 3",
   "language": "python",
   "name": "python3"
  },
  "language_info": {
   "codemirror_mode": {
    "name": "ipython",
    "version": 3
   },
   "file_extension": ".py",
   "mimetype": "text/x-python",
   "name": "python",
   "nbconvert_exporter": "python",
   "pygments_lexer": "ipython3",
   "version": "3.6.4"
  }
 },
 "nbformat": 4,
 "nbformat_minor": 2
}
